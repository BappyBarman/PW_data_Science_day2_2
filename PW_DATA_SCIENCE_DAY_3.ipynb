{
  "nbformat": 4,
  "nbformat_minor": 0,
  "metadata": {
    "colab": {
      "provenance": []
    },
    "kernelspec": {
      "name": "python3",
      "display_name": "Python 3"
    },
    "language_info": {
      "name": "python"
    }
  },
  "cells": [
    {
      "cell_type": "markdown",
      "source": [
        "Loops statements: while,for,nested, loop control(break,continue,pass)"
      ],
      "metadata": {
        "id": "bDg8vO08AQtz"
      }
    },
    {
      "cell_type": "code",
      "source": [
        "#Whaile is while loop\n",
        "joining_age=25\n",
        "i=1\n",
        "while joining_age<=60:\n",
        "  print(joining_age)\n",
        "  joining_age=joining_age+1\n",
        "\n",
        "else:\n",
        "  print(\"Its time fore retirement\")\n"
      ],
      "metadata": {
        "colab": {
          "base_uri": "https://localhost:8080/"
        },
        "id": "9tFUCt0jAkM2",
        "outputId": "b792228d-2be9-41b0-d4be-5819ac8bbf0e"
      },
      "execution_count": 4,
      "outputs": [
        {
          "output_type": "stream",
          "name": "stdout",
          "text": [
            "25\n",
            "26\n",
            "27\n",
            "28\n",
            "29\n",
            "30\n",
            "31\n",
            "32\n",
            "33\n",
            "34\n",
            "35\n",
            "36\n",
            "37\n",
            "38\n",
            "39\n",
            "40\n",
            "41\n",
            "42\n",
            "43\n",
            "44\n",
            "45\n",
            "46\n",
            "47\n",
            "48\n",
            "49\n",
            "50\n",
            "51\n",
            "52\n",
            "53\n",
            "54\n",
            "55\n",
            "56\n",
            "57\n",
            "58\n",
            "59\n",
            "60\n",
            "Its time fore retirement\n"
          ]
        }
      ]
    },
    {
      "cell_type": "code",
      "source": [
        "### ATM machine with 1000\n",
        "total_amount=1000\n",
        "while total_amount!=0:\n",
        "  print(total_amount)\n",
        "  total_amount=total_amount-100\n",
        "else:\n",
        "  print(\"Put more money\")"
      ],
      "metadata": {
        "colab": {
          "base_uri": "https://localhost:8080/"
        },
        "id": "WB-Yvk__DiTr",
        "outputId": "4894d37b-0718-46ff-c010-bb591e4eb15a"
      },
      "execution_count": 8,
      "outputs": [
        {
          "output_type": "stream",
          "name": "stdout",
          "text": [
            "1000\n",
            "900\n",
            "800\n",
            "700\n",
            "600\n",
            "500\n",
            "400\n",
            "300\n",
            "200\n",
            "100\n",
            "Put more money\n"
          ]
        }
      ]
    },
    {
      "cell_type": "code",
      "source": [
        "### for loop\n",
        "lst=[\"Bappy\",2,3,4,\"Apple\",'Banna']"
      ],
      "metadata": {
        "id": "9G_OLdv2ETge"
      },
      "execution_count": 15,
      "outputs": []
    },
    {
      "cell_type": "code",
      "source": [
        "type(lst)"
      ],
      "metadata": {
        "colab": {
          "base_uri": "https://localhost:8080/"
        },
        "id": "32CT1NclYh3u",
        "outputId": "0f05604d-4758-4efd-db04-0617024b5faf"
      },
      "execution_count": 16,
      "outputs": [
        {
          "output_type": "execute_result",
          "data": {
            "text/plain": [
              "list"
            ]
          },
          "metadata": {},
          "execution_count": 16
        }
      ]
    },
    {
      "cell_type": "code",
      "source": [
        "lst[4]"
      ],
      "metadata": {
        "colab": {
          "base_uri": "https://localhost:8080/",
          "height": 35
        },
        "id": "gsusPRcIZKKy",
        "outputId": "993af8e9-a3f3-425a-bc17-4b92e418d807"
      },
      "execution_count": 17,
      "outputs": [
        {
          "output_type": "execute_result",
          "data": {
            "text/plain": [
              "'Apple'"
            ],
            "application/vnd.google.colaboratory.intrinsic+json": {
              "type": "string"
            }
          },
          "metadata": {},
          "execution_count": 17
        }
      ]
    },
    {
      "cell_type": "code",
      "source": [
        "lst"
      ],
      "metadata": {
        "colab": {
          "base_uri": "https://localhost:8080/"
        },
        "id": "hlE-w7QvZRcX",
        "outputId": "87f179ae-2690-4f57-e8a4-b2347301cd5c"
      },
      "execution_count": 18,
      "outputs": [
        {
          "output_type": "execute_result",
          "data": {
            "text/plain": [
              "['Bappy', 2, 3, 4, 'Apple', 'Banna']"
            ]
          },
          "metadata": {},
          "execution_count": 18
        }
      ]
    },
    {
      "cell_type": "code",
      "source": [
        "for x in lst:\n",
        "  print(x)"
      ],
      "metadata": {
        "colab": {
          "base_uri": "https://localhost:8080/"
        },
        "id": "_wvrW1BfZ5ae",
        "outputId": "ed9562f5-d560-4cd8-a40d-ef83b507ca5f"
      },
      "execution_count": 19,
      "outputs": [
        {
          "output_type": "stream",
          "name": "stdout",
          "text": [
            "Bappy\n",
            "2\n",
            "3\n",
            "4\n",
            "Apple\n",
            "Banna\n"
          ]
        }
      ]
    },
    {
      "cell_type": "code",
      "source": [
        "fruits_list=[\"Mango\",\"charry\",\"Pappaya\",\"Banana\"]"
      ],
      "metadata": {
        "id": "9lYO6ZQ6aG0w"
      },
      "execution_count": 20,
      "outputs": []
    },
    {
      "cell_type": "code",
      "source": [
        "for a in fruits_list:\n",
        "  print(a)\n",
        "  if a==\"charry\":\n",
        "    print(\"the fruit is charry\")"
      ],
      "metadata": {
        "colab": {
          "base_uri": "https://localhost:8080/"
        },
        "id": "RJKFtynuae5H",
        "outputId": "25c6a695-c730-4ba6-a317-700bd8b799ab"
      },
      "execution_count": 21,
      "outputs": [
        {
          "output_type": "stream",
          "name": "stdout",
          "text": [
            "Mango\n",
            "charry\n",
            "the fruit is charry\n",
            "Pappaya\n",
            "Banana\n"
          ]
        }
      ]
    },
    {
      "cell_type": "code",
      "source": [
        "fruit=\"Mango\"\n",
        "for x in fruit:\n",
        "  print(x)"
      ],
      "metadata": {
        "colab": {
          "base_uri": "https://localhost:8080/"
        },
        "id": "i1NiWyn4awfK",
        "outputId": "e824c869-8b10-4230-e6fb-9e182905c1c1"
      },
      "execution_count": 22,
      "outputs": [
        {
          "output_type": "stream",
          "name": "stdout",
          "text": [
            "M\n",
            "a\n",
            "n\n",
            "g\n",
            "o\n"
          ]
        }
      ]
    },
    {
      "cell_type": "code",
      "source": [
        "fruit=\"Mango\"\n",
        "for x in fruit:\n",
        "print(x,end='')"
      ],
      "metadata": {
        "colab": {
          "base_uri": "https://localhost:8080/"
        },
        "id": "XQQi23BKbAjN",
        "outputId": "0a8d3ffa-deaf-4bd1-e69e-02092ded3c84"
      },
      "execution_count": 23,
      "outputs": [
        {
          "output_type": "stream",
          "name": "stdout",
          "text": [
            "Mango"
          ]
        }
      ]
    },
    {
      "cell_type": "code",
      "source": [
        "## Nested loop\n",
        "n=7\n"
      ],
      "metadata": {
        "id": "XD4Kyn3abhHt"
      },
      "execution_count": 25,
      "outputs": []
    },
    {
      "cell_type": "code",
      "source": [
        "range(1,6)"
      ],
      "metadata": {
        "colab": {
          "base_uri": "https://localhost:8080/"
        },
        "id": "XFHR9zcDbt1B",
        "outputId": "d81a673d-ef03-4d1e-c22d-9d59ae79d445"
      },
      "execution_count": 26,
      "outputs": [
        {
          "output_type": "execute_result",
          "data": {
            "text/plain": [
              "range(1, 6)"
            ]
          },
          "metadata": {},
          "execution_count": 26
        }
      ]
    },
    {
      "cell_type": "code",
      "source": [
        "for i in range(1,6):\n",
        "  print(i)"
      ],
      "metadata": {
        "colab": {
          "base_uri": "https://localhost:8080/"
        },
        "id": "Tg6hcFytcAa0",
        "outputId": "bd635986-58bf-428b-8524-848a871f50da"
      },
      "execution_count": 27,
      "outputs": [
        {
          "output_type": "stream",
          "name": "stdout",
          "text": [
            "1\n",
            "2\n",
            "3\n",
            "4\n",
            "5\n"
          ]
        }
      ]
    },
    {
      "cell_type": "code",
      "source": [
        "for i in range(1,10,2):\n",
        "  print(i)"
      ],
      "metadata": {
        "colab": {
          "base_uri": "https://localhost:8080/"
        },
        "id": "p-GlwHJDcJCz",
        "outputId": "6b858694-540c-40a4-b54f-ea99766afec1"
      },
      "execution_count": 28,
      "outputs": [
        {
          "output_type": "stream",
          "name": "stdout",
          "text": [
            "1\n",
            "3\n",
            "5\n",
            "7\n",
            "9\n"
          ]
        }
      ]
    },
    {
      "cell_type": "code",
      "source": [
        "for i in range(1,10):\n",
        "  print(i)"
      ],
      "metadata": {
        "colab": {
          "base_uri": "https://localhost:8080/"
        },
        "id": "spBtLgPicWIs",
        "outputId": "30495d47-3674-478b-8d28-5e1e08004d7e"
      },
      "execution_count": 29,
      "outputs": [
        {
          "output_type": "stream",
          "name": "stdout",
          "text": [
            "1\n",
            "2\n",
            "3\n",
            "4\n",
            "5\n",
            "6\n",
            "7\n",
            "8\n",
            "9\n"
          ]
        }
      ]
    },
    {
      "cell_type": "code",
      "source": [
        "## Nested Loop\n",
        "n=7\n",
        "\n",
        "for i in range(0,n):\n",
        "  for j in range(0,1+i):\n",
        "    print(\"*\",end='')"
      ],
      "metadata": {
        "colab": {
          "base_uri": "https://localhost:8080/"
        },
        "id": "fkI7ZL14cse2",
        "outputId": "7ebe5c29-6dab-4a3f-b561-f8a3baa96a65"
      },
      "execution_count": 30,
      "outputs": [
        {
          "output_type": "stream",
          "name": "stdout",
          "text": [
            "****************************"
          ]
        }
      ]
    },
    {
      "cell_type": "code",
      "source": [
        "## Nested Loop\n",
        "n=7\n",
        "\n",
        "for i in range(0,n):\n",
        "  for j in range(0,1+i):\n",
        "    print(\"*\",end='')\n",
        "  print(\"\\r\")"
      ],
      "metadata": {
        "colab": {
          "base_uri": "https://localhost:8080/"
        },
        "id": "mg1YsTUOdnsy",
        "outputId": "8e7e0c84-edf1-4fef-81c0-6b5b5e20f7b7"
      },
      "execution_count": 31,
      "outputs": [
        {
          "output_type": "stream",
          "name": "stdout",
          "text": [
            "*\r\n",
            "**\r\n",
            "***\r\n",
            "****\r\n",
            "*****\r\n",
            "******\r\n",
            "*******\r\n"
          ]
        }
      ]
    },
    {
      "cell_type": "code",
      "source": [
        "##Loop Control\n",
        "## Break and Continue\n",
        "fruits_list= [\"Mango\",\"Cherry\",\"Apple\",\"Pappaya\",\"Banana\"]"
      ],
      "metadata": {
        "id": "LpQalURfd3E6"
      },
      "execution_count": 32,
      "outputs": []
    },
    {
      "cell_type": "code",
      "source": [
        "for i in fruits_list:\n",
        "  if i== \"Apple\":\n",
        "    print(\"This is Apple\")\n",
        "  print(i)"
      ],
      "metadata": {
        "colab": {
          "base_uri": "https://localhost:8080/"
        },
        "id": "AYFfK5zjffSk",
        "outputId": "c8e89726-e88f-410d-e405-6f8295ee48e4"
      },
      "execution_count": 34,
      "outputs": [
        {
          "output_type": "stream",
          "name": "stdout",
          "text": [
            "Mango\n",
            "Cherry\n",
            "This is Apple\n",
            "Apple\n",
            "Pappaya\n",
            "Banana\n"
          ]
        }
      ]
    },
    {
      "cell_type": "code",
      "source": [
        "for i in fruits_list:\n",
        "  if i== \"Apple\":\n",
        "    print(\"This is Apple\")\n",
        "    break\n",
        "  print(i)"
      ],
      "metadata": {
        "colab": {
          "base_uri": "https://localhost:8080/"
        },
        "id": "um983lnRfxPJ",
        "outputId": "6b73d340-7b24-42ad-a3b5-d2ec8b19a48f"
      },
      "execution_count": 35,
      "outputs": [
        {
          "output_type": "stream",
          "name": "stdout",
          "text": [
            "Mango\n",
            "Cherry\n",
            "This is Apple\n"
          ]
        }
      ]
    },
    {
      "cell_type": "code",
      "source": [
        "for i in fruits_list:\n",
        "  if i== \"Apple\":\n",
        "    print(\"This is Apple\")\n",
        "    continue\n",
        "  print(i)"
      ],
      "metadata": {
        "colab": {
          "base_uri": "https://localhost:8080/"
        },
        "id": "NEySInDyf58e",
        "outputId": "25b31594-41b0-4009-bc39-e5e18eb1d076"
      },
      "execution_count": 36,
      "outputs": [
        {
          "output_type": "stream",
          "name": "stdout",
          "text": [
            "Mango\n",
            "Cherry\n",
            "This is Apple\n",
            "Pappaya\n",
            "Banana\n"
          ]
        }
      ]
    },
    {
      "cell_type": "code",
      "source": [
        "for i in fruits_list:\n",
        "  if i== \"Apple\":\n",
        "    print(\"This is Apple\")\n",
        "    pass\n",
        "  print(i)"
      ],
      "metadata": {
        "colab": {
          "base_uri": "https://localhost:8080/"
        },
        "id": "Qv0l1zNLf-hy",
        "outputId": "596fecf5-f52c-4d5f-93ad-fdd20a7048f1"
      },
      "execution_count": 37,
      "outputs": [
        {
          "output_type": "stream",
          "name": "stdout",
          "text": [
            "Mango\n",
            "Cherry\n",
            "This is Apple\n",
            "Apple\n",
            "Pappaya\n",
            "Banana\n"
          ]
        }
      ]
    },
    {
      "cell_type": "code",
      "source": [],
      "metadata": {
        "id": "CRXEJgzVgJZh"
      },
      "execution_count": null,
      "outputs": []
    }
  ]
}